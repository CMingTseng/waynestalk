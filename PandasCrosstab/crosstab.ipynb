{
 "cells": [
  {
   "cell_type": "code",
   "execution_count": 1,
   "metadata": {
    "collapsed": true
   },
   "outputs": [
    {
     "data": {
      "text/plain": "European Union Membership  Member  Not Member\nLevel of development                         \nDeveloped                       2           2\nDeveloping                      0           2",
      "text/html": "<div>\n<style scoped>\n    .dataframe tbody tr th:only-of-type {\n        vertical-align: middle;\n    }\n\n    .dataframe tbody tr th {\n        vertical-align: top;\n    }\n\n    .dataframe thead th {\n        text-align: right;\n    }\n</style>\n<table border=\"1\" class=\"dataframe\">\n  <thead>\n    <tr style=\"text-align: right;\">\n      <th>European Union Membership</th>\n      <th>Member</th>\n      <th>Not Member</th>\n    </tr>\n    <tr>\n      <th>Level of development</th>\n      <th></th>\n      <th></th>\n    </tr>\n  </thead>\n  <tbody>\n    <tr>\n      <th>Developed</th>\n      <td>2</td>\n      <td>2</td>\n    </tr>\n    <tr>\n      <th>Developing</th>\n      <td>0</td>\n      <td>2</td>\n    </tr>\n  </tbody>\n</table>\n</div>"
     },
     "execution_count": 1,
     "metadata": {},
     "output_type": "execute_result"
    }
   ],
   "source": [
    "import pandas as pd\n",
    "import numpy as np\n",
    "\n",
    "df = pd.DataFrame(\n",
    "    np.array([\n",
    "        ['Austria', 'Developed', 'Member', 'Euro'],\n",
    "        ['Spain', 'Developed', 'Member', 'Euro'],\n",
    "        ['Japan', 'Developed', 'Not Member', 'National Currency'],\n",
    "        ['Argentina', 'Developing', 'Not Member', 'National Currency'],\n",
    "        ['Bolivia', 'Developing', 'Not Member', 'National Currency'],\n",
    "        ['Taiwan', 'Developed', 'Not Member', 'National Currency'],\n",
    "    ]),\n",
    "    columns=['Country', 'Level of development', 'European Union Membership', 'Currency']\n",
    ")\n",
    "pd.crosstab(df['Level of development'], df['European Union Membership'])"
   ]
  },
  {
   "cell_type": "code",
   "execution_count": 2,
   "outputs": [
    {
     "data": {
      "text/plain": "European Union Membership  Member  Not Member  All\nLevel of development                              \nDeveloped                       2           2    4\nDeveloping                      0           2    2\nAll                             2           4    6",
      "text/html": "<div>\n<style scoped>\n    .dataframe tbody tr th:only-of-type {\n        vertical-align: middle;\n    }\n\n    .dataframe tbody tr th {\n        vertical-align: top;\n    }\n\n    .dataframe thead th {\n        text-align: right;\n    }\n</style>\n<table border=\"1\" class=\"dataframe\">\n  <thead>\n    <tr style=\"text-align: right;\">\n      <th>European Union Membership</th>\n      <th>Member</th>\n      <th>Not Member</th>\n      <th>All</th>\n    </tr>\n    <tr>\n      <th>Level of development</th>\n      <th></th>\n      <th></th>\n      <th></th>\n    </tr>\n  </thead>\n  <tbody>\n    <tr>\n      <th>Developed</th>\n      <td>2</td>\n      <td>2</td>\n      <td>4</td>\n    </tr>\n    <tr>\n      <th>Developing</th>\n      <td>0</td>\n      <td>2</td>\n      <td>2</td>\n    </tr>\n    <tr>\n      <th>All</th>\n      <td>2</td>\n      <td>4</td>\n      <td>6</td>\n    </tr>\n  </tbody>\n</table>\n</div>"
     },
     "execution_count": 2,
     "metadata": {},
     "output_type": "execute_result"
    }
   ],
   "source": [
    "pd.crosstab(df['Level of development'], df['European Union Membership'], margins=True)"
   ],
   "metadata": {
    "collapsed": false,
    "pycharm": {
     "name": "#%%\n"
    }
   }
  },
  {
   "cell_type": "code",
   "execution_count": 3,
   "outputs": [
    {
     "data": {
      "text/plain": "European Union Membership Member        Not Member\nCurrency                    Euro National Currency\nLevel of development                              \nDeveloped                      2                 2\nDeveloping                     0                 2",
      "text/html": "<div>\n<style scoped>\n    .dataframe tbody tr th:only-of-type {\n        vertical-align: middle;\n    }\n\n    .dataframe tbody tr th {\n        vertical-align: top;\n    }\n\n    .dataframe thead tr th {\n        text-align: left;\n    }\n\n    .dataframe thead tr:last-of-type th {\n        text-align: right;\n    }\n</style>\n<table border=\"1\" class=\"dataframe\">\n  <thead>\n    <tr>\n      <th>European Union Membership</th>\n      <th>Member</th>\n      <th>Not Member</th>\n    </tr>\n    <tr>\n      <th>Currency</th>\n      <th>Euro</th>\n      <th>National Currency</th>\n    </tr>\n    <tr>\n      <th>Level of development</th>\n      <th></th>\n      <th></th>\n    </tr>\n  </thead>\n  <tbody>\n    <tr>\n      <th>Developed</th>\n      <td>2</td>\n      <td>2</td>\n    </tr>\n    <tr>\n      <th>Developing</th>\n      <td>0</td>\n      <td>2</td>\n    </tr>\n  </tbody>\n</table>\n</div>"
     },
     "execution_count": 3,
     "metadata": {},
     "output_type": "execute_result"
    }
   ],
   "source": [
    "pd.crosstab(df[\"Level of development\"], [df['European Union Membership'], df['Currency']])\n"
   ],
   "metadata": {
    "collapsed": false,
    "pycharm": {
     "name": "#%%\n"
    }
   }
  }
 ],
 "metadata": {
  "kernelspec": {
   "display_name": "Python 3",
   "language": "python",
   "name": "python3"
  },
  "language_info": {
   "codemirror_mode": {
    "name": "ipython",
    "version": 2
   },
   "file_extension": ".py",
   "mimetype": "text/x-python",
   "name": "python",
   "nbconvert_exporter": "python",
   "pygments_lexer": "ipython2",
   "version": "2.7.6"
  }
 },
 "nbformat": 4,
 "nbformat_minor": 0
}